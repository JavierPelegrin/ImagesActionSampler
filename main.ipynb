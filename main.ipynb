{
 "cells": [
  {
   "cell_type": "code",
   "execution_count": 2,
   "metadata": {},
   "outputs": [],
   "source": [
    "import cv2\n",
    "import numpy as np\n",
    "import matplotlib.pyplot as plt\n",
    "import os"
   ]
  },
  {
   "cell_type": "code",
   "execution_count": 66,
   "metadata": {},
   "outputs": [
    {
     "name": "stdout",
     "output_type": "stream",
     "text": [
      "All videos created successfully.\n"
     ]
    }
   ],
   "source": [
    "# Define the parameters for cropping and video creation\n",
    "parameters = {\n",
    "    \"vertical\":{\n",
    "        \"image1\": {\"y\": 900, \"x\": 0, \"h\": 880, \"w\": 610},\n",
    "        \"image2\": {\"y\": 900, \"x\": 618, \"h\": 880, \"w\": 610},\n",
    "        \"image3\": {\"y\": 0, \"x\": 618, \"h\": 880, \"w\": 610},\n",
    "        \"image4\": {\"y\": 0, \"x\": 0, \"h\": 880, \"w\": 610},\n",
    "    },\n",
    "    \"horizontal\":{\n",
    "        \"image1\": {\"x\": 960, \"y\": 0, \"h\": 880, \"w\": 610},\n",
    "        \"image2\": {\"x\": 960, \"y\": 618, \"h\": 880, \"w\": 610},\n",
    "        \"image3\": {\"x\": 0, \"y\": 618, \"h\": 880, \"w\": 610},\n",
    "        \"image4\": {\"x\": 0, \"y\": 0, \"h\": 880, \"w\": 610},\n",
    "    }\n",
    "}\n",
    "\n",
    "output_dir = \"output_videos\"\n",
    "\n",
    "# Create the output directory if it doesn't exist\n",
    "if not os.path.exists(output_dir):\n",
    "    os.makedirs(output_dir)\n",
    "\n",
    "# Iterate over the images in the \"imgs/\" directory\n",
    "for filename in os.listdir(\"imgs/\"):\n",
    "    if filename.endswith(\".JPG\"):\n",
    "        # Read the input image\n",
    "        path = os.path.join(\"imgs/\", filename)\n",
    "        img = cv2.imread(path)\n",
    "        size = img.shape\n",
    "\n",
    "        # Create a video writer object\n",
    "        output_path = os.path.join(output_dir, f\"{filename}.mp4\")\n",
    "        \n",
    "        \n",
    "\n",
    "        # Check if the image is horizontal\n",
    "        if size[0] < 1810:\n",
    "            fourcc = cv2.VideoWriter_fourcc(*\"mp4v\")\n",
    "            video_writer = cv2.VideoWriter(output_path, fourcc, 3.75, (880,610))\n",
    "\n",
    "            # Use horizontal parameters for cropping and video creation\n",
    "            for key, values in parameters[\"horizontal\"].items():\n",
    "                cropped = img[values[\"y\"]: values[\"y\"] + values[\"w\"], values[\"x\"]: values[\"x\"] + values[\"h\"]]\n",
    "                video_writer.write(cropped)\n",
    "        else:\n",
    "            # Use vertical parameters for cropping and video creation\n",
    "            fourcc = cv2.VideoWriter_fourcc(*\"mp4v\")\n",
    "            video_writer = cv2.VideoWriter(output_path, fourcc, 3.75, (610,880))\n",
    "\n",
    "\n",
    "            for key, values in parameters[\"vertical\"].items():\n",
    "                cropped = img[values[\"y\"]: values[\"y\"] + values[\"h\"], values[\"x\"]: values[\"x\"] + values[\"w\"]]\n",
    "                video_writer.write(cropped)\n",
    "\n",
    "        # Release the video writer and display a success message\n",
    "        video_writer.release()\n",
    "        # print(f\"Video created for {filename}\")\n",
    "\n",
    "print(\"All videos created successfully.\")\n"
   ]
  },
  {
   "cell_type": "markdown",
   "metadata": {},
   "source": [
    "## Testes"
   ]
  },
  {
   "cell_type": "code",
   "execution_count": 67,
   "metadata": {},
   "outputs": [
    {
     "name": "stderr",
     "output_type": "stream",
     "text": [
      "[ WARN:0@3273.030] global loadsave.cpp:248 findDecoder imread_(''): can't open/read file: check file path/integrity\n"
     ]
    },
    {
     "ename": "error",
     "evalue": "OpenCV(4.8.1) /io/opencv/modules/imgproc/src/color.cpp:182: error: (-215:Assertion failed) !_src.empty() in function 'cvtColor'\n",
     "output_type": "error",
     "traceback": [
      "\u001b[0;31m---------------------------------------------------------------------------\u001b[0m",
      "\u001b[0;31merror\u001b[0m                                     Traceback (most recent call last)",
      "\u001b[1;32m/home/javier/Documentos/github/ImagesActionSampler/main.ipynb Celda 3\u001b[0m line \u001b[0;36m2\n\u001b[1;32m      <a href='vscode-notebook-cell:/home/javier/Documentos/github/ImagesActionSampler/main.ipynb#W2sZmlsZQ%3D%3D?line=0'>1</a>\u001b[0m img \u001b[39m=\u001b[39m cv2\u001b[39m.\u001b[39mimread(\u001b[39m\"\u001b[39m\u001b[39m\"\u001b[39m)\n\u001b[0;32m----> <a href='vscode-notebook-cell:/home/javier/Documentos/github/ImagesActionSampler/main.ipynb#W2sZmlsZQ%3D%3D?line=1'>2</a>\u001b[0m img \u001b[39m=\u001b[39m cv2\u001b[39m.\u001b[39;49mcvtColor(img, cv2\u001b[39m.\u001b[39;49mCOLOR_BGR2RGB)\n\u001b[1;32m      <a href='vscode-notebook-cell:/home/javier/Documentos/github/ImagesActionSampler/main.ipynb#W2sZmlsZQ%3D%3D?line=2'>3</a>\u001b[0m \u001b[39mprint\u001b[39m(img\u001b[39m.\u001b[39mshape)\n\u001b[1;32m      <a href='vscode-notebook-cell:/home/javier/Documentos/github/ImagesActionSampler/main.ipynb#W2sZmlsZQ%3D%3D?line=3'>4</a>\u001b[0m plt\u001b[39m.\u001b[39mimshow(img)\n",
      "\u001b[0;31merror\u001b[0m: OpenCV(4.8.1) /io/opencv/modules/imgproc/src/color.cpp:182: error: (-215:Assertion failed) !_src.empty() in function 'cvtColor'\n"
     ]
    }
   ],
   "source": [
    "img = cv2.imread(\"\")\n",
    "img = cv2.cvtColor(img, cv2.COLOR_BGR2RGB)\n",
    "print(img.shape)\n",
    "plt.imshow(img)\n",
    "# plt.show()\n",
    "parameters = {\n",
    "    \"vertical\":{\n",
    "        \"image1\": {\"y\": 900, \"x\": 0, \"h\": 880, \"w\": 610},\n",
    "        \"image2\": {\"y\": 900, \"x\": 618, \"h\": 880, \"w\": 610},\n",
    "        \"image3\": {\"y\": 0, \"x\": 618, \"h\": 880, \"w\": 610},\n",
    "        \"image4\": {\"y\": 0, \"x\": 0, \"h\": 880, \"w\": 610},\n",
    "    },\n",
    "    \"horizontal\":{\n",
    "        \"image1\": {\"x\": 960, \"y\": 0, \"h\": 880, \"w\": 610},\n",
    "        \"image2\": {\"x\": 960, \"y\": 618, \"h\": 880, \"w\": 610},\n",
    "        \"image3\": {\"x\": 0, \"y\": 618, \"h\": 880, \"w\": 610},\n",
    "        \"image4\": {\"x\": 0, \"y\": 0, \"h\": 880, \"w\": 610},\n",
    "    }\n",
    "}\n",
    "\n",
    "parameters = parameters[\"vertical\"]\n",
    "\n",
    "for key, values in parameters.items():\n",
    "    cropped = img[values[\"y\"]: values[\"y\"] + values[\"h\"], values[\"x\"]: values[\"x\"] + values[\"w\"]]\n",
    "    video_writer.write(cropped)\n",
    "    print(key,cropped.shape)\n",
    "    plt.imshow(cropped)\n",
    "    plt.show()\n",
    "\n",
    "\n",
    "img = cv2.imread(\"imgs/C059077-R2-02-0.JPG\")\n",
    "img = cv2.cvtColor(img, cv2.COLOR_BGR2RGB)\n",
    "print(img.shape)\n",
    "plt.imshow(img)\n"
   ]
  }
 ],
 "metadata": {
  "kernelspec": {
   "display_name": "Python 3",
   "language": "python",
   "name": "python3"
  },
  "language_info": {
   "codemirror_mode": {
    "name": "ipython",
    "version": 3
   },
   "file_extension": ".py",
   "mimetype": "text/x-python",
   "name": "python",
   "nbconvert_exporter": "python",
   "pygments_lexer": "ipython3",
   "version": "3.11.2"
  }
 },
 "nbformat": 4,
 "nbformat_minor": 2
}
